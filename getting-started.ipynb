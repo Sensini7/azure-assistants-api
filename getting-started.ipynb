{
 "cells": [
  {
   "cell_type": "markdown",
   "metadata": {},
   "source": [
    "# Getting Started with the Assistants API\n",
    "\n",
    "During the public preview, the Assistants API is not available everywhere. Check https://learn.microsoft.com/en-us/azure/ai-services/openai/concepts/models#assistants-preview. I will use Sweden Central.\n",
    "\n",
    "The API version to use in Azure is 2024-02-15-preview\n",
    "\n",
    "Let's start creating an Azure OpenAI client...\n"
   ]
  },
  {
   "cell_type": "code",
   "execution_count": 1,
   "metadata": {},
   "outputs": [],
   "source": [
    "import os\n",
    "from dotenv import load_dotenv\n",
    "from openai import AzureOpenAI\n",
    "\n",
    "# Load environment variables from .env file\n",
    "# AZURE_OPENAI_API_KEY\n",
    "# AZURE_OPENAI_ENDPOINT\n",
    "# AZURE_OPENAI_API_VERSION\n",
    "load_dotenv()\n",
    "\n",
    "# Create Azure OpenAI client\n",
    "client = AzureOpenAI(\n",
    "    api_key=os.getenv('AZURE_OPENAI_API_KEY'),\n",
    "    azure_endpoint=os.getenv('AZURE_OPENAI_ENDPOINT'),\n",
    "    api_version=os.getenv('AZURE_OPENAI_API_VERSION')\n",
    ")\n"
   ]
  },
  {
   "cell_type": "markdown",
   "metadata": {},
   "source": [
    "## Creating the assistant"
   ]
  },
  {
   "cell_type": "code",
   "execution_count": 2,
   "metadata": {},
   "outputs": [
    {
     "name": "stdout",
     "output_type": "stream",
     "text": [
      "{\n",
      "  \"id\": \"asst_B1Vh2TUyS07IPOscaJQ3cPO0\",\n",
      "  \"created_at\": 1707392440,\n",
      "  \"description\": null,\n",
      "  \"file_ids\": [],\n",
      "  \"instructions\": \"You are a math tutor that helps users solve math problems. \\n    You have access to a sandboxed environment for writing and testing code. \\n    Explain to the user why you used the code and how it works\\n    \",\n",
      "  \"metadata\": {},\n",
      "  \"model\": \"gpt-4-preview\",\n",
      "  \"name\": \"Math Tutor\",\n",
      "  \"object\": \"assistant\",\n",
      "  \"tools\": [\n",
      "    {\n",
      "      \"type\": \"code_interpreter\"\n",
      "    }\n",
      "  ]\n",
      "}\n"
     ]
    }
   ],
   "source": [
    "assistant = client.beta.assistants.create(\n",
    "    name=\"Math Tutor\",\n",
    "    instructions=\"\"\"You are a math tutor that helps users solve math problems. \n",
    "    You have access to a sandboxed environment for writing and testing code. \n",
    "    Explain to the user why you used the code and how it works\n",
    "    \"\"\",\n",
    "    tools=[{\"type\": \"code_interpreter\"}],\n",
    "    model=\"gpt-4-preview\" # ensure you have a deployment in the region you are using\n",
    ")\n",
    "\n",
    "# display information about the assistant\n",
    "print(assistant.model_dump_json(indent=2))\n"
   ]
  },
  {
   "cell_type": "markdown",
   "metadata": {},
   "source": [
    "Above, you can see an assistant has a unique ID. For some reason, you don't see this ID in the Azure OpenAI Playground. With OpenAI, the assistants you create are shown in their portal.\n",
    "\n",
    "## Creating a thread\n",
    "\n",
    "Now we can create a thread. A thread is **not linked** to the assistant at creation time"
   ]
  },
  {
   "cell_type": "code",
   "execution_count": 3,
   "metadata": {},
   "outputs": [
    {
     "name": "stdout",
     "output_type": "stream",
     "text": [
      "Thread id:  thread_KV2eD7D8c9dj3mxcSnhHbDIl\n"
     ]
    }
   ],
   "source": [
    "# Create a thread\n",
    "thread = client.beta.threads.create()\n",
    "\n",
    "# Threads have an id as well\n",
    "print(\"Thread id: \", thread.id)"
   ]
  },
  {
   "cell_type": "markdown",
   "metadata": {},
   "source": [
    "## Adding a user question\n",
    "\n",
    "Now we can add a user question to the thread via a **message**. The message is put on the thread via its ID.\n",
    "\n",
    "After adding the message, we get the messages from the tread and dump them. Every message has an ID and content. The type of content we add is just text and comes from a user (role=user)."
   ]
  },
  {
   "cell_type": "code",
   "execution_count": 4,
   "metadata": {},
   "outputs": [
    {
     "name": "stdout",
     "output_type": "stream",
     "text": [
      "{\n",
      "  \"data\": [\n",
      "    {\n",
      "      \"id\": \"msg_eJZYxX3aiSHiuuoILnakR78e\",\n",
      "      \"assistant_id\": null,\n",
      "      \"content\": [\n",
      "        {\n",
      "          \"text\": {\n",
      "            \"annotations\": [],\n",
      "            \"value\": \"Solve the equation y = x^2 + 3 for x = 3 and plot the function graph.\"\n",
      "          },\n",
      "          \"type\": \"text\"\n",
      "        }\n",
      "      ],\n",
      "      \"created_at\": 1707392448,\n",
      "      \"file_ids\": [],\n",
      "      \"metadata\": {},\n",
      "      \"object\": \"thread.message\",\n",
      "      \"role\": \"user\",\n",
      "      \"run_id\": null,\n",
      "      \"thread_id\": \"thread_KV2eD7D8c9dj3mxcSnhHbDIl\"\n",
      "    }\n",
      "  ],\n",
      "  \"object\": \"list\",\n",
      "  \"first_id\": \"msg_eJZYxX3aiSHiuuoILnakR78e\",\n",
      "  \"last_id\": \"msg_eJZYxX3aiSHiuuoILnakR78e\",\n",
      "  \"has_more\": false\n",
      "}\n"
     ]
    }
   ],
   "source": [
    "# Add a user question to the thread\n",
    "message = client.beta.threads.messages.create(\n",
    "    thread_id=thread.id,\n",
    "    role=\"user\",\n",
    "    content=\"Solve the equation y = x^2 + 3 for x = 3 and plot the function graph.\"\n",
    ")\n",
    "\n",
    "# Show the messages\n",
    "thread_messages = client.beta.threads.messages.list(thread.id)\n",
    "print(thread_messages.model_dump_json(indent=2))"
   ]
  },
  {
   "cell_type": "markdown",
   "metadata": {},
   "source": [
    "## Running a thread\n",
    "\n",
    "Adding a message to a thread does not do much. To get a response from the assistant's model, we need to run the thread.\n",
    "\n",
    "When you run the thread, you can provide extra instructions via the `instructions` parameter. We do not do that below.\n",
    "\n",
    "A thread is run asychronously. We need to check the run status to see if it is done. After you run the cell below, keep running the cell under it until the status is `completed`. When it is not completed, the status is `in_progress`.\n",
    "\n",
    "Other statuses: cancelled, expired, failed"
   ]
  },
  {
   "cell_type": "code",
   "execution_count": 5,
   "metadata": {},
   "outputs": [],
   "source": [
    "run = client.beta.threads.runs.create(\n",
    "  thread_id=thread.id,\n",
    "  assistant_id=assistant.id\n",
    ")"
   ]
  },
  {
   "cell_type": "code",
   "execution_count": 18,
   "metadata": {},
   "outputs": [
    {
     "name": "stdout",
     "output_type": "stream",
     "text": [
      "completed\n"
     ]
    }
   ],
   "source": [
    "# run this until the run is completed\n",
    "# it can take a while before the run is completed\n",
    "# in a real application, create a loop that waits for the run to complete\n",
    "run = client.beta.threads.runs.retrieve(\n",
    "  thread_id=thread.id,\n",
    "  run_id=run.id\n",
    ")\n",
    "\n",
    "status = run.status\n",
    "print(status)"
   ]
  },
  {
   "cell_type": "markdown",
   "metadata": {},
   "source": [
    "## Result of the run\n",
    "\n",
    "To see what happened, we have to check the messages of the thread. The user message will be at the bottom. There should be a message with role=assistant. This is the response from the assistant's model. The message has a `content` field with the response. There can be multiple types of responses, for instance text and image."
   ]
  },
  {
   "cell_type": "code",
   "execution_count": 19,
   "metadata": {},
   "outputs": [
    {
     "name": "stdout",
     "output_type": "stream",
     "text": [
      "{\n",
      "  \"data\": [\n",
      "    {\n",
      "      \"id\": \"msg_IRjzrfYARoXPOFYEsJyZUVtE\",\n",
      "      \"assistant_id\": \"asst_B1Vh2TUyS07IPOscaJQ3cPO0\",\n",
      "      \"content\": [\n",
      "        {\n",
      "          \"image_file\": {\n",
      "            \"file_id\": \"assistant-j4dEFv2ISc57CwRBcblNO5c9\"\n",
      "          },\n",
      "          \"type\": \"image_file\"\n",
      "        },\n",
      "        {\n",
      "          \"text\": {\n",
      "            \"annotations\": [],\n",
      "            \"value\": \"To solve the equation \\\\(y = x^2 + 3\\\\) for \\\\(x = 3\\\\), I first defined a Python function `f(x)` that calculates the value of the equation given x. For \\\\(x = 3\\\\), I calculated \\\\(y\\\\) using this function, which gave us a value of \\\\(y = 12\\\\).\\n\\nTo illustrate this visually, I then used NumPy and Matplotlib to plot the function graph. I created a range of x values from -10 to 10 using `np.linspace` and calculated the corresponding y values using the function `f(x)`. Then I plotted these values on the graph, resulting in the curve you see.\\n\\nAdditionally, I included a red point on the graph to indicate where \\\\(x = 3\\\\) lies on the function. This point, marked on the graph, is at the coordinates (3, 12), in line with our calculation.\\n\\nThe final plot accurately represents the function \\\\(y = x^2 + 3\\\\), and clearly shows the solution to the equation for \\\\(x = 3\\\\). This visual representation assists in understanding not just the specific solution, but also the behavior of the function over a range of x values.\"\n",
      "          },\n",
      "          \"type\": \"text\"\n",
      "        }\n",
      "      ],\n",
      "      \"created_at\": 1707392470,\n",
      "      \"file_ids\": [],\n",
      "      \"metadata\": {},\n",
      "      \"object\": \"thread.message\",\n",
      "      \"role\": \"assistant\",\n",
      "      \"run_id\": \"run_jy7C1SmvrXE5M5eDPXh5HojD\",\n",
      "      \"thread_id\": \"thread_KV2eD7D8c9dj3mxcSnhHbDIl\"\n",
      "    },\n",
      "    {\n",
      "      \"id\": \"msg_eJZYxX3aiSHiuuoILnakR78e\",\n",
      "      \"assistant_id\": null,\n",
      "      \"content\": [\n",
      "        {\n",
      "          \"text\": {\n",
      "            \"annotations\": [],\n",
      "            \"value\": \"Solve the equation y = x^2 + 3 for x = 3 and plot the function graph.\"\n",
      "          },\n",
      "          \"type\": \"text\"\n",
      "        }\n",
      "      ],\n",
      "      \"created_at\": 1707392448,\n",
      "      \"file_ids\": [],\n",
      "      \"metadata\": {},\n",
      "      \"object\": \"thread.message\",\n",
      "      \"role\": \"user\",\n",
      "      \"run_id\": null,\n",
      "      \"thread_id\": \"thread_KV2eD7D8c9dj3mxcSnhHbDIl\"\n",
      "    }\n",
      "  ],\n",
      "  \"object\": \"list\",\n",
      "  \"first_id\": \"msg_IRjzrfYARoXPOFYEsJyZUVtE\",\n",
      "  \"last_id\": \"msg_eJZYxX3aiSHiuuoILnakR78e\",\n",
      "  \"has_more\": false\n",
      "}\n"
     ]
    }
   ],
   "source": [
    "# dump the messages on the thread again\n",
    "messages = client.beta.threads.messages.list(\n",
    "  thread_id=thread.id\n",
    ")\n",
    "\n",
    "print(messages.model_dump_json(indent=2))"
   ]
  },
  {
   "cell_type": "markdown",
   "metadata": {},
   "source": [
    "## Showing the response\n",
    "\n",
    "We can show all messages in the array in reverse order to start from the beginning. Depending on the content (text, image) we can do something with it.\n",
    "\n",
    "For now just print the text or file_id if there is one"
   ]
  },
  {
   "cell_type": "code",
   "execution_count": 20,
   "metadata": {},
   "outputs": [
    {
     "name": "stdout",
     "output_type": "stream",
     "text": [
      "Solve the equation y = x^2 + 3 for x = 3 and plot the function graph. \n",
      "\n",
      "To solve the equation \\(y = x^2 + 3\\) for \\(x = 3\\), I first defined a Python function `f(x)` that calculates the value of the equation given x. For \\(x = 3\\), I calculated \\(y\\) using this function, which gave us a value of \\(y = 12\\).\n",
      "\n",
      "To illustrate this visually, I then used NumPy and Matplotlib to plot the function graph. I created a range of x values from -10 to 10 using `np.linspace` and calculated the corresponding y values using the function `f(x)`. Then I plotted these values on the graph, resulting in the curve you see.\n",
      "\n",
      "Additionally, I included a red point on the graph to indicate where \\(x = 3\\) lies on the function. This point, marked on the graph, is at the coordinates (3, 12), in line with our calculation.\n",
      "\n",
      "The final plot accurately represents the function \\(y = x^2 + 3\\), and clearly shows the solution to the equation for \\(x = 3\\). This visual representation assists in understanding not just the specific solution, but also the behavior of the function over a range of x values. \n",
      "\n",
      "Image ID: assistant-j4dEFv2ISc57CwRBcblNO5c9 \n",
      "\n"
     ]
    }
   ],
   "source": [
    "import json\n",
    "\n",
    "messages_json = json.loads(messages.model_dump_json())\n",
    "\n",
    "for item in reversed(messages_json['data']):\n",
    "    # Check the content array\n",
    "    for content in reversed(item['content']):\n",
    "        # If there is text in the content array, print it\n",
    "        if 'text' in content:\n",
    "            print(content['text']['value'], \"\\n\")\n",
    "        # If there is an image_file in the content, print the file_id\n",
    "        if 'image_file' in content:\n",
    "            print(\"Image ID:\" , content['image_file']['file_id'], \"\\n\")"
   ]
  },
  {
   "cell_type": "markdown",
   "metadata": {},
   "source": [
    "## Retrieving the image file\n",
    "\n",
    "Same code as above but show the image with PIL and IPython.display"
   ]
  },
  {
   "cell_type": "code",
   "execution_count": 21,
   "metadata": {},
   "outputs": [
    {
     "name": "stdout",
     "output_type": "stream",
     "text": [
      "Solve the equation y = x^2 + 3 for x = 3 and plot the function graph. \n",
      "\n",
      "To solve the equation \\(y = x^2 + 3\\) for \\(x = 3\\), I first defined a Python function `f(x)` that calculates the value of the equation given x. For \\(x = 3\\), I calculated \\(y\\) using this function, which gave us a value of \\(y = 12\\).\n",
      "\n",
      "To illustrate this visually, I then used NumPy and Matplotlib to plot the function graph. I created a range of x values from -10 to 10 using `np.linspace` and calculated the corresponding y values using the function `f(x)`. Then I plotted these values on the graph, resulting in the curve you see.\n",
      "\n",
      "Additionally, I included a red point on the graph to indicate where \\(x = 3\\) lies on the function. This point, marked on the graph, is at the coordinates (3, 12), in line with our calculation.\n",
      "\n",
      "The final plot accurately represents the function \\(y = x^2 + 3\\), and clearly shows the solution to the equation for \\(x = 3\\). This visual representation assists in understanding not just the specific solution, but also the behavior of the function over a range of x values. \n",
      "\n"
     ]
    },
    {
     "data": {
      "image/png": "[encoded data removed]",
      "text/plain": [
       "<PIL.Image.Image image mode=RGBA size=400x400>"
      ]
     },
     "metadata": {},
     "output_type": "display_data"
    }
   ],
   "source": [
    "from PIL import Image\n",
    "from IPython.display import display\n",
    "\n",
    "for item in reversed(messages_json['data']):\n",
    "    # Check the content array\n",
    "    for content in reversed(item['content']):\n",
    "        # If there is text in the content array, print it\n",
    "        if 'text' in content:\n",
    "            print(content['text']['value'], \"\\n\")\n",
    "        # If there is an image_file in the content, print the file_id\n",
    "        if 'image_file' in content:\n",
    "            file_id = content['image_file']['file_id']\n",
    "            file_content = client.files.content(file_id)\n",
    "            # use PIL with the file_content\n",
    "            img = Image.open(file_content)\n",
    "            img = img.resize((400, 400))\n",
    "            display(img)\n",
    "            \n",
    "            \n"
   ]
  },
  {
   "cell_type": "markdown",
   "metadata": {},
   "source": [
    "## Ask another question\n",
    "\n",
    "We can add another user message to the thread and run it again. But now, we will wait for the response and display it right away.\n",
    "\n",
    "We will use Markdown to display the assistant's response.\n",
    "\n",
    "The new_run function is a helper function to add a question "
   ]
  },
  {
   "cell_type": "code",
   "execution_count": 31,
   "metadata": {},
   "outputs": [
    {
     "ename": "AttributeError",
     "evalue": "'Threads' object has no attribute 'list'",
     "output_type": "error",
     "traceback": [
      "\u001b[0;31m---------------------------------------------------------------------------\u001b[0m",
      "\u001b[0;31mAttributeError\u001b[0m                            Traceback (most recent call last)",
      "Cell \u001b[0;32mIn[31], line 58\u001b[0m\n\u001b[1;32m     55\u001b[0m                 img \u001b[38;5;241m=\u001b[39m img\u001b[38;5;241m.\u001b[39mresize((\u001b[38;5;241m400\u001b[39m, \u001b[38;5;241m400\u001b[39m))\n\u001b[1;32m     56\u001b[0m                 display(img)\n\u001b[0;32m---> 58\u001b[0m \u001b[43mnew_run\u001b[49m\u001b[43m(\u001b[49m\u001b[38;5;124;43m\"\u001b[39;49m\u001b[38;5;124;43mPlot a sine wave from 0 to 2π.\u001b[39;49m\u001b[38;5;124;43m\"\u001b[39;49m\u001b[43m,\u001b[49m\u001b[43m \u001b[49m\u001b[38;5;28;43;01mFalse\u001b[39;49;00m\u001b[43m)\u001b[49m\n",
      "Cell \u001b[0;32mIn[31], line 11\u001b[0m, in \u001b[0;36mnew_run\u001b[0;34m(question, new_thread)\u001b[0m\n\u001b[1;32m      8\u001b[0m     thread \u001b[38;5;241m=\u001b[39m client\u001b[38;5;241m.\u001b[39mbeta\u001b[38;5;241m.\u001b[39mthreads\u001b[38;5;241m.\u001b[39mcreate()\n\u001b[1;32m      9\u001b[0m \u001b[38;5;28;01melse\u001b[39;00m:\n\u001b[1;32m     10\u001b[0m     \u001b[38;5;66;03m# Use the existing thread\u001b[39;00m\n\u001b[0;32m---> 11\u001b[0m     thread \u001b[38;5;241m=\u001b[39m \u001b[43mclient\u001b[49m\u001b[38;5;241;43m.\u001b[39;49m\u001b[43mbeta\u001b[49m\u001b[38;5;241;43m.\u001b[39;49m\u001b[43mthreads\u001b[49m\u001b[38;5;241;43m.\u001b[39;49m\u001b[43mlist\u001b[49m()[\u001b[38;5;241m0\u001b[39m]\n\u001b[1;32m     13\u001b[0m \u001b[38;5;66;03m# add new message to the thread\u001b[39;00m\n\u001b[1;32m     14\u001b[0m message \u001b[38;5;241m=\u001b[39m client\u001b[38;5;241m.\u001b[39mbeta\u001b[38;5;241m.\u001b[39mthreads\u001b[38;5;241m.\u001b[39mmessages\u001b[38;5;241m.\u001b[39mcreate(\n\u001b[1;32m     15\u001b[0m     thread_id\u001b[38;5;241m=\u001b[39mthread\u001b[38;5;241m.\u001b[39mid,\n\u001b[1;32m     16\u001b[0m     role\u001b[38;5;241m=\u001b[39m\u001b[38;5;124m\"\u001b[39m\u001b[38;5;124muser\u001b[39m\u001b[38;5;124m\"\u001b[39m,\n\u001b[1;32m     17\u001b[0m     content\u001b[38;5;241m=\u001b[39mquestion\n\u001b[1;32m     18\u001b[0m )\n",
      "\u001b[0;31mAttributeError\u001b[0m: 'Threads' object has no attribute 'list'"
     ]
    }
   ],
   "source": [
    "from IPython.display import clear_output, display, Markdown\n",
    "import time\n",
    "\n",
    "def new_run(question, thread_id):\n",
    "\n",
    "    # add new message to the thread\n",
    "    message = client.beta.threads.messages.create(\n",
    "        thread_id=thread_id,\n",
    "        role=\"user\",\n",
    "        content=question\n",
    "    )\n",
    "\n",
    "    # run the tread again\n",
    "    run = client.beta.threads.runs.create(\n",
    "    thread_id=thread.id,\n",
    "    assistant_id=assistant.id\n",
    "    )\n",
    "\n",
    "    status = run.status\n",
    "\n",
    "    while status not in [\"completed\", \"cancelled\", \"expired\", \"failed\"]:\n",
    "        time.sleep(2)\n",
    "        run = client.beta.threads.runs.retrieve(thread_id=thread.id,run_id=run.id)\n",
    "        status = run.status\n",
    "        print(f'Status: {status}')\n",
    "        clear_output(wait=True)\n",
    "\n",
    "    print(f'Status: {status}')\n",
    "\n",
    "    messages = client.beta.threads.messages.list(\n",
    "    thread_id=thread.id\n",
    "    )\n",
    "\n",
    "    messages_json = json.loads(messages.model_dump_json())\n",
    "\n",
    "    for item in reversed(messages_json['data']):\n",
    "        # Check the content array\n",
    "        for content in reversed(item['content']):\n",
    "            # If there is text in the content array, print it as Markdown\n",
    "            if 'text' in content:\n",
    "                display(Markdown(content['text']['value']))\n",
    "            # If there is an image_file in the content, print the file_id\n",
    "            if 'image_file' in content:\n",
    "                file_id = content['image_file']['file_id']\n",
    "                file_content = client.files.content(file_id)\n",
    "                # use PIL with the file_content\n",
    "                img = Image.open(file_content)\n",
    "                img = img.resize((400, 400))\n",
    "                display(img)\n",
    "\n",
    "new_run(\"Plot a sine wave from 0 to 2π.\", thread)"
   ]
  }
 ],
 "metadata": {
  "kernelspec": {
   "display_name": "Python 3",
   "language": "python",
   "name": "python3"
  },
  "language_info": {
   "codemirror_mode": {
    "name": "ipython",
    "version": 3
   },
   "file_extension": ".py",
   "mimetype": "text/x-python",
   "name": "python",
   "nbconvert_exporter": "python",
   "pygments_lexer": "ipython3",
   "version": "3.11.7"
  }
 },
 "nbformat": 4,
 "nbformat_minor": 2
}
