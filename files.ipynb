{
 "cells": [
  {
   "cell_type": "markdown",
   "metadata": {},
   "source": [
    "# Create assistant with access to files and a function\n",
    "\n",
    "This assistant is supposed to answer questions about the HR policy of the fictional company Innovatek. It has access to the following files:\n",
    "\n",
    "- Innovatek.pdf\n",
    "\n",
    "There is also a function that allows an employee to request a raise.\n",
    "\n",
    "**Note**: in the OpenAI Assistants API (in general, available at OpenAI today in beta as well), you can upload files and enable the **retrieval** tool like so:\n",
    "\n",
    "```python\n",
    "assistant = client.beta.assistants.create(\n",
    "  instructions=\"You are a customer support chatbot. Use your knowledge base to best respond to customer queries.\",\n",
    "  model=\"gpt-4-turbo-preview\",\n",
    "  tools=[{\"type\": \"retrieval\"}]\n",
    ")\n",
    "```\n",
    "\n",
    "You would also upload files and pass the file ids here but that is not shown.\n",
    "\n",
    "Currently though (Feb 2024), the Azure OpenAI Assistants API does not allow you to configure the `retrieval` tool. You can only enable the `code_interpreter` tool. The `code_interpreter` tool might be able to open your documents and read them, but it's not as powerful as the retrieval tool. It basically has to use Python code to read the file and then answer questions about it.\n",
    "\n",
    "Instead of using the `retrieval` tool, we will use an in memory vector store instead with the help of Chroma, LangChain and Azure OpenAI Embeddings.\n",
    "\n",
    "You will need the following packages:\n",
    "- openai\n",
    "- langchain\n",
    "- chroma\n",
    "- dotenv\n",
    "- PyPDF2"
   ]
  },
  {
   "cell_type": "code",
   "execution_count": 83,
   "metadata": {},
   "outputs": [],
   "source": [
    "import os\n",
    "from dotenv import load_dotenv\n",
    "from openai import AzureOpenAI\n",
    "\n",
    "# Load environment variables from .env file\n",
    "# AZURE_OPENAI_API_KEY\n",
    "# AZURE_OPENAI_ENDPOINT\n",
    "# AZURE_OPENAI_API_VERSION\n",
    "load_dotenv()\n",
    "\n",
    "# Create Azure OpenAI client\n",
    "client = AzureOpenAI(\n",
    "    api_key=os.getenv('AZURE_OPENAI_API_KEY'),\n",
    "    azure_endpoint=os.getenv('AZURE_OPENAI_ENDPOINT'),\n",
    "    api_version=os.getenv('AZURE_OPENAI_API_VERSION')\n",
    ")\n",
    "\n"
   ]
  },
  {
   "cell_type": "markdown",
   "metadata": {},
   "source": [
    "## Use Chroma in-memory vector store\n",
    "\n",
    "Below we read a PDF and convert it to text. The text is split into smaller pieces and then handed to Croma to store these pieces + a vector + metadata (file, page number)\n",
    "\n",
    "We then do a similarity search to test if we get results from Chroma."
   ]
  },
  {
   "cell_type": "code",
   "execution_count": 84,
   "metadata": {},
   "outputs": [
    {
     "name": "stderr",
     "output_type": "stream",
     "text": [
      "Warning: model not found. Using cl100k_base encoding.\n"
     ]
    },
    {
     "name": "stdout",
     "output_type": "stream",
     "text": [
      "[Document(page_content='Innovatek  \\n \\nHuman Resources Policy Document  \\n \\nVersion 1.0   \\nEffective January 1st 2023    \\n \\n \\nTable of Contents  \\n \\n1. Working Hours  \\n2. Conduct at Work  \\n3. Company Cars  \\n4. Career Planning  \\n5. Performance Evaluation  \\n6. Leave and Attendance  \\n7. Dress Code and Personal Appearance  \\n8. Workplace Harassment and Discrimination  \\n9. Data Protection and Confidentiality  \\n10. Salary  \\n \\n1. Working Hours  \\n \\nThe standard working hours for Innovatek  are [x] hours per day, from [start time] to [end \\ntime], [x] days per week. Breaks and meal periods will be provided as per local labor laws. \\nEmployees are expected to adhere to their scheduled working hours and report to work on \\ntime. Any deviations from the standard working hours require prior approval from the \\nrespective supervisor or manager.  \\n \\n \\n2. Conduct at Work  \\n \\nAt Innovatek , we are deeply committed to maintaining a work environment that fosters', metadata={'source': './Innovatek.pdf', 'page': 0}), Document(page_content='respective supervisor or manager.  \\n \\n \\n2. Conduct at Work  \\n \\nAt Innovatek , we are deeply committed to maintaining a work environment that fosters \\nrespect, integrity, and collaboration among all members. The following provides a detailed \\nguideline for the expected conduct at work, inclusive of examples, though not exhaustive.  \\n \\n2.1 Professional Conduct  \\n \\n- Integrity:  \\n  - Allowed: Honest communication, honoring commitments, and ensuring consistency \\nbetween words and actions.  \\n  - Not Allowed: Engaging in fraudulent activities, misrepresentation of data, or dishonesty in \\nprofessional interactions.  \\n   \\n- Responsibility:  \\n  - Allowed: Acknowledging and correcting mistakes, fulfilling duties, and safeguarding \\ncompany assets.', metadata={'source': './Innovatek.pdf', 'page': 0}), Document(page_content='- Not Allowed: Disregarding errors, misusing company time or resources, and neglecting \\nresponsibilities.  \\n     \\n- Respectful Communication:  \\n  - Allowed: Addressing colleagues politely, listening actively, and providing constructive \\nfeedback.  \\n  - Not Allowed: Using offensive language, engaging in harmful gossip, or disregarding others’ \\nopinions.  \\n \\n2.2 Workplace Respect  \\n \\n- Inclusivity:  \\n  - Allowed: Appreciating diversity and promoting an inclusive work environment.  \\n  - Not Allowed: Engaging in actions that marginalize, discriminate, or isolate based on race, \\ngender, religion, etc.  \\n \\n- Team Collaboration:  \\n  - Allowed: Sharing knowledge, supporting team members, and celebrating shared \\nsuccesses.  \\n  - Not Allowed: Withholding information, undermining colleagues, or taking sole credit for \\ncollective efforts.  \\n \\n- Conflict Resolution:  \\n  - Allowed: Addressing disagreements diplomatically and seeking resolution through \\ndialogue or mediation.', metadata={'source': './Innovatek.pdf', 'page': 1}), Document(page_content='collective efforts.  \\n \\n- Conflict Resolution:  \\n  - Allowed: Addressing disagreements diplomatically and seeking resolution through \\ndialogue or mediation.  \\n  - Not Allowed: Ignoring conflicts, escalating disputes unnecessarily, or retaliating against \\nindividuals.  \\n \\n2.3 Adherence to Company Policies  \\n \\n- Use of Company Assets:  \\n  - Allowed: Utilizing company property for official purposes and treating it with care.  \\n  - Not Allowed: Misusing company property, such as using office supplies for personal \\nprojects or unauthorized use of company vehicles.  \\n   \\n- Data Security:  \\n  - Allowed: Protecting sensitive data, using secure channels for communication, and \\nreporting breaches.  \\n  - Not Allowed: Sharing confidential information without authorization or using unsecured \\nnetworks to transmit sensitive data.  \\n \\n- Health and Safety Compliance:  \\n  - Allowed: Adhering to safety protocols, reporting hazards, and ensuring a safe workplace.', metadata={'source': './Innovatek.pdf', 'page': 1}), Document(page_content='networks to transmit sensitive data.  \\n \\n- Health and Safety Compliance:  \\n  - Allowed: Adhering to safety protocols, reporting hazards, and ensuring a safe workplace.  \\n  - Not Allowed: Ignoring safety guidelines, engaging in risky behavior, or neglecting to report \\nunsafe conditions.  \\n \\n2.4 Disciplinary Action', metadata={'source': './Innovatek.pdf', 'page': 1}), Document(page_content=\"- First Instance: A verbal warning will be issued, and the incident will be documented in the \\nemployee's file.  \\n- Second Instance: A written warning will be provided, detailing the nature of the \\nmisconduct and the expected correction.  \\n- Third Instance: A final written warning will be issued, potentially alongside other \\ndisciplinary actions, such as suspension.  \\n- Further Instances: Employment may be terminated if behavior does not improve following \\nthe above steps.  \\n \\nIn addition, depending on the severity and impact of the misconduct, Innovatek  reserves the \\nright to bypass progressive discipline and take immediate action, including termination, if \\nwarranted.  \\n \\nThe aforementioned examples and guidelines are aimed to assist employees in \\nunderstanding and adhering to expected conduct in our organization. This ensures that \\nInnovatek  remains a healthy, positive, and productive working environment for all.\", metadata={'source': './Innovatek.pdf', 'page': 2}), Document(page_content='understanding and adhering to expected conduct in our organization. This ensures that \\nInnovatek  remains a healthy, positive, and productive working environment for all. \\nEmployees with concerns or queries regarding these guidelines or experiencing difficulties in \\nthe workplace are encouraged to approach their supervisor or the Human Resources \\nDepartm ent promptly.  \\n \\n \\n3. Company Cars  \\n \\nInnovatek firmly believes in supporting sustainability and reducing our carbon footprint. As a \\nresult, we provide electric vehicles (EVs) to eligible employees for business -related travel. \\nThe following offers a comprehensive guideline regarding the usage of company cars, \\nensuring compliance and maintaining our commitment to environmental sustainability.  \\n \\n3.1 Eligibility and Allocation  \\n \\n- Eligibility Criteria:  \\n  - Employees who frequently engage in external business -related activities, or whose roles \\nnecessitate travel.', metadata={'source': './Innovatek.pdf', 'page': 2}), Document(page_content='3.1 Eligibility and Allocation  \\n \\n- Eligibility Criteria:  \\n  - Employees who frequently engage in external business -related activities, or whose roles \\nnecessitate travel.  \\n  - Senior management or positions which require frequent inter -branch travel.  \\n \\n- Allocation Process:  \\n  - Requests for company cars must be submitted to the Fleet Management Department with \\njustification for the necessity.  \\n  - Approval will be subject to review by Fleet Management and the relevant department \\nhead.  \\n \\n3.2 Usage Guidelines  \\n \\n- Purpose of Use:  \\n  - Allowed: Traveling for client meetings, fieldwork, inter -branch visits, and other business -\\nrelated activities.', metadata={'source': './Innovatek.pdf', 'page': 2}), Document(page_content='- Not Allowed: Personal errands, non -business -related travel, or lending the vehicle to non -\\nemployees.  \\n \\n- Booking and Scheduling:  \\n  - Cars must be booked at least [X] hours in advance through the designated booking \\nsystem.  \\n  - Scheduling conflicts should be resolved with due consideration for business priorities.  \\n \\n3.3 Logging and Reporting  \\n \\n- Mileage and Purpose Logging:  \\n  - Each trip must be logged with clear details including the date, start and end times, total \\nmiles driven, and the specific purpose of the travel.  \\n  - Failure to adequately log trips may result in suspended access to company cars.  \\n \\n- Incident Reporting:  \\n  - Any incidents, such as accidents or breakdowns, must be reported immediately to the \\nFleet Management Department.  \\n  - A comprehensive incident report should be submitted within 24 hours of the occurrence.  \\n \\n3.4 Maintenance and Care  \\n \\n- Routine Maintenance:', metadata={'source': './Innovatek.pdf', 'page': 3}), Document(page_content='Fleet Management Department.  \\n  - A comprehensive incident report should be submitted within 24 hours of the occurrence.  \\n \\n3.4 Maintenance and Care  \\n \\n- Routine Maintenance:  \\n  - Regular servicing is crucial to maintain the optimal functioning of our EVs.  \\n  - Employees must notify the Fleet Management Department when a vehicle is due for \\nservicing.  \\n \\n- Cleanliness and Care:  \\n  - Ensure the vehicle is kept clean and in good condition, both internally and externally.  \\n  - Any damages or malfunctions, even minor ones, should be reported immediately to avoid \\nfurther deterioration.  \\n \\n3.5 Personal Use  \\n \\n- Strictly Prohibited:  \\n  - Using the vehicle for personal errands, non -employee transportation, or leisure travel.  \\n  - Engaging in dangerous or irresponsible driving behaviors.  \\n \\n- Penalties:  \\n  - Unauthorized personal use will result in a warning or possible suspension of vehicle \\naccess.', metadata={'source': './Innovatek.pdf', 'page': 3}), Document(page_content='- Engaging in dangerous or irresponsible driving behaviors.  \\n \\n- Penalties:  \\n  - Unauthorized personal use will result in a warning or possible suspension of vehicle \\naccess.  \\n  - Repeated violations may lead to permanent revocation of company car privileges.  \\n \\n3.6 Charging Stations and Battery Management  \\n \\n- Utilizing Charging Stations:', metadata={'source': './Innovatek.pdf', 'page': 3}), Document(page_content='- Ensure that the EV is charged using Innovatek’s designated charging stations whenever \\npossible.  \\n  - External charging may be used if necessary and must be reported for reimbursement if \\napplicable.  \\n \\n- Battery Management:  \\n  - Employees must ensure the battery is sufficiently charged for planned travel to avoid \\ndisruption.  \\n  - Ensure to allocate time for charging during longer trips, planning the journey accordingly.  \\n \\nInnovatek urges all employees to utilize company vehicles responsibly, adhering strictly to \\nthe provided guidelines. This not only supports our sustainability efforts but also ensures \\nefficient and fair usage of our fleet across the organization. Should th ere be any doubts or \\nqueries regarding the vehicle usage policy, employees are encouraged to connect with the \\nFleet Management Department or their respective supervisors for clarity.  \\n \\nAllowed cars: Tesla 3, Tesla S, BMW i4, BMW i5  \\nDisallowed cars: any gasoline or diesel car', metadata={'source': './Innovatek.pdf', 'page': 4}), Document(page_content='Fleet Management Department or their respective supervisors for clarity.  \\n \\nAllowed cars: Tesla 3, Tesla S, BMW i4, BMW i5  \\nDisallowed cars: any gasoline or diesel car  \\n \\n4. Career Planning  \\n \\nWe encourage employees to discuss their career aspirations with their supervisors during \\nregular check -ins. Innovatek  supports professional growth and development through various \\nprograms, such as training, workshops, and mentorship. Career progression paths shall be \\nclear, achievable, and communicated transparently to ensure that employees are aware of \\nthe opportunities available for advancement within the organization.  \\n \\nYou are entitled to three weeks of training per year.  \\n \\n5. Performance Evaluation  \\n \\nEmployees will be evaluated on an annual basis through our performance appraisal system. \\nThis evaluation considers various aspects, including but not limited to, job performance, \\nadherence to company policies, and achievement of individual and team objecti ves.', metadata={'source': './Innovatek.pdf', 'page': 4}), Document(page_content='This evaluation considers various aspects, including but not limited to, job performance, \\nadherence to company policies, and achievement of individual and team objecti ves. \\nPerformance evaluations shall be conducted in a transparent, objective, and constructive \\nmanner to encourage continuous development and improvement.  \\n \\n6. Leave and Attendance  \\n \\nEmployees are entitled to annual, sick, and other forms of leave as stipulated in their \\nemployment contracts and in accordance with local labor laws. Unplanned absences should \\nbe communicated to supervisors at the earliest opportunity. Excessive unauthoris ed absence \\nmay lead to disciplinary action.  \\n \\n7. Dress Code and Personal Appearance', metadata={'source': './Innovatek.pdf', 'page': 4}), Document(page_content='Employees are expected to present themselves in a manner that is consistent with a \\nprofessional and respectful work environment. The company’s dress code policy, which may \\nvary by department or role, will be communicated during the onboarding process. \\nModi fications to accommodate religious or health -related needs will be considered upon \\nrequest.  \\n \\nYou are never allowed to wear shorts.  \\n \\n8. Workplace Harassment and Discrimination  \\n \\nInnovatek  is dedicated to maintaining a work environment free from harassment and \\ndiscrimination. All employees are expected to treat each other with respect and dignity. Any \\ninstances of harassment, discrimination, or retaliation will be promptly investigated and may \\nresult in disciplinary action, up to and including termination.  \\n \\n9. Data Protection and Confidentiality  \\n \\nAll employees must adhere to the data protection policies of Innovatek . Handling of', metadata={'source': './Innovatek.pdf', 'page': 5}), Document(page_content='result in disciplinary action, up to and including termination.  \\n \\n9. Data Protection and Confidentiality  \\n \\nAll employees must adhere to the data protection policies of Innovatek . Handling of \\nconfidential and sensitive information should be done with utmost care and in compliance \\nwith all applicable laws and company guidelines. Unauthorized disclosure of confidential \\ninformation is a serious violation of this policy and will resul t in appropriate disciplinary \\nactions.  \\n \\nNote: This policy document is a general guideline and may be subject to change. Individual \\ndepartments or roles may have additional policies or guidelines. It is the responsibility of \\neach employee to be aware of and understand all company policies. For an y clarifications, \\nplease contact the Human Resources Department.  \\n \\n10. Salary  \\n \\nYour salary depends on your level. There are 5 levels at Innovatek. Here are the levels and \\nyearly salary ranges in dollars:  \\n \\n1: 80000 -100000  \\n2: 100000 -150000', metadata={'source': './Innovatek.pdf', 'page': 5}), Document(page_content='10. Salary  \\n \\nYour salary depends on your level. There are 5 levels at Innovatek. Here are the levels and \\nyearly salary ranges in dollars:  \\n \\n1: 80000 -100000  \\n2: 100000 -150000  \\n3: 150000 -300000  \\n4: 300000 -500000  \\n5: 500000 -2000000  \\n \\nLevel 5 is reserved for CEO, CTO, CFO and COO positions.  \\n \\nReview  \\n \\nThis policy will be reviewed at a minimum annually and revised as needed to maintain \\norganizational relevancy.', metadata={'source': './Innovatek.pdf', 'page': 5}), Document(page_content='This sample HR policy document provides a broad framework and should be customized to \\nfit the specific needs, culture, and legal requirements of your organization. Depending on \\njurisdiction, you may need to modify clauses and add additional policies to ens ure \\ncompliance with local labor laws and regulations.', metadata={'source': './Innovatek.pdf', 'page': 6})]\n",
      "18\n"
     ]
    },
    {
     "name": "stderr",
     "output_type": "stream",
     "text": [
      "Warning: model not found. Using cl100k_base encoding.\n"
     ]
    },
    {
     "name": "stdout",
     "output_type": "stream",
     "text": [
      "[Document(page_content='Employees are expected to present themselves in a manner that is consistent with a \\nprofessional and respectful work environment. The company’s dress code policy, which may \\nvary by department or role, will be communicated during the onboarding process. \\nModi fications to accommodate religious or health -related needs will be considered upon \\nrequest.  \\n \\nYou are never allowed to wear shorts.  \\n \\n8. Workplace Harassment and Discrimination  \\n \\nInnovatek  is dedicated to maintaining a work environment free from harassment and \\ndiscrimination. All employees are expected to treat each other with respect and dignity. Any \\ninstances of harassment, discrimination, or retaliation will be promptly investigated and may \\nresult in disciplinary action, up to and including termination.  \\n \\n9. Data Protection and Confidentiality  \\n \\nAll employees must adhere to the data protection policies of Innovatek . Handling of', metadata={'page': 5, 'source': './Innovatek.pdf'}), Document(page_content='Employees are expected to present themselves in a manner that is consistent with a \\nprofessional and respectful work environment. The company’s dress code policy, which may \\nvary by department or role, will be communicated during the onboarding process. \\nModi fications to accommodate religious or health -related needs will be considered upon \\nrequest.  \\n \\nYou are never allowed to wear shorts.  \\n \\n8. Workplace Harassment and Discrimination  \\n \\nInnovatek  is dedicated to maintaining a work environment free from harassment and \\ndiscrimination. All employees are expected to treat each other with respect and dignity. Any \\ninstances of harassment, discrimination, or retaliation will be promptly investigated and may \\nresult in disciplinary action, up to and including termination.  \\n \\n9. Data Protection and Confidentiality  \\n \\nAll employees must adhere to the data protection policies of Innovatek . Handling of', metadata={'page': 5, 'source': './Innovatek.pdf'}), Document(page_content='Employees are expected to present themselves in a manner that is consistent with a \\nprofessional and respectful work environment. The company’s dress code policy, which may \\nvary by department or role, will be communicated during the onboarding process. \\nModi fications to accommodate religious or health -related needs will be considered upon \\nrequest.  \\n \\nYou are never allowed to wear shorts.  \\n \\n8. Workplace Harassment and Discrimination  \\n \\nInnovatek  is dedicated to maintaining a work environment free from harassment and \\ndiscrimination. All employees are expected to treat each other with respect and dignity. Any \\ninstances of harassment, discrimination, or retaliation will be promptly investigated and may \\nresult in disciplinary action, up to and including termination.  \\n \\n9. Data Protection and Confidentiality  \\n \\nAll employees must adhere to the data protection policies of Innovatek . Handling of', metadata={'page': 5, 'source': './Innovatek.pdf'})]\n",
      "3\n"
     ]
    }
   ],
   "source": [
    "# in memory vector store with chroma (pip install chroma)\n",
    "# you also need langchain for this\n",
    "# you can ignore the warnings coming from this code\n",
    "from langchain_community.document_loaders import PyPDFLoader\n",
    "from langchain_openai import AzureOpenAIEmbeddings\n",
    "from langchain.text_splitter import RecursiveCharacterTextSplitter\n",
    "from langchain_community.vectorstores import Chroma\n",
    "\n",
    "pdf = PyPDFLoader(\"./Innovatek.pdf\").load()\n",
    "text_splitter = RecursiveCharacterTextSplitter(\n",
    "    chunk_size=1000,\n",
    "    chunk_overlap=200\n",
    ")\n",
    "documents = text_splitter.split_documents(pdf)\n",
    "print(documents)\n",
    "print(len(documents))\n",
    "db = Chroma.from_documents(documents, AzureOpenAIEmbeddings(client=client, model=\"embedding\", api_version=\"2023-05-15\"))\n",
    "\n",
    "# query the vector store\n",
    "query = \"Can I wear short pants?\"\n",
    "docs = db.similarity_search(query, k=3)\n",
    "print(docs)\n",
    "print(len(docs))"
   ]
  },
  {
   "cell_type": "markdown",
   "metadata": {},
   "source": [
    "## Helper function to search the HR policy\n",
    "\n",
    "The helper function does a similarity search and returns the 3 most relavant pieces on content as a JSON string. The JSON string will be the tool output that the model uses to answer a question like: \"What is the policy on vacation days?\"."
   ]
  },
  {
   "cell_type": "code",
   "execution_count": 85,
   "metadata": {},
   "outputs": [
    {
     "name": "stderr",
     "output_type": "stream",
     "text": [
      "Warning: model not found. Using cl100k_base encoding.\n"
     ]
    },
    {
     "name": "stdout",
     "output_type": "stream",
     "text": [
      "[{\"page_content\": \"Employees are expected to present themselves in a manner that is consistent with a \\nprofessional and respectful work environment. The company\\u2019s dress code policy, which may \\nvary by department or role, will be communicated during the onboarding process. \\nModi fications to accommodate religious or health -related needs will be considered upon \\nrequest.  \\n \\nYou are never allowed to wear shorts.  \\n \\n8. Workplace Harassment and Discrimination  \\n \\nInnovatek  is dedicated to maintaining a work environment free from harassment and \\ndiscrimination. All employees are expected to treat each other with respect and dignity. Any \\ninstances of harassment, discrimination, or retaliation will be promptly investigated and may \\nresult in disciplinary action, up to and including termination.  \\n \\n9. Data Protection and Confidentiality  \\n \\nAll employees must adhere to the data protection policies of Innovatek . Handling of\", \"metadata\": {\"page\": 5, \"source\": \"./Innovatek.pdf\"}, \"type\": \"Document\"}, {\"page_content\": \"Employees are expected to present themselves in a manner that is consistent with a \\nprofessional and respectful work environment. The company\\u2019s dress code policy, which may \\nvary by department or role, will be communicated during the onboarding process. \\nModi fications to accommodate religious or health -related needs will be considered upon \\nrequest.  \\n \\nYou are never allowed to wear shorts.  \\n \\n8. Workplace Harassment and Discrimination  \\n \\nInnovatek  is dedicated to maintaining a work environment free from harassment and \\ndiscrimination. All employees are expected to treat each other with respect and dignity. Any \\ninstances of harassment, discrimination, or retaliation will be promptly investigated and may \\nresult in disciplinary action, up to and including termination.  \\n \\n9. Data Protection and Confidentiality  \\n \\nAll employees must adhere to the data protection policies of Innovatek . Handling of\", \"metadata\": {\"page\": 5, \"source\": \"./Innovatek.pdf\"}, \"type\": \"Document\"}, {\"page_content\": \"Employees are expected to present themselves in a manner that is consistent with a \\nprofessional and respectful work environment. The company\\u2019s dress code policy, which may \\nvary by department or role, will be communicated during the onboarding process. \\nModi fications to accommodate religious or health -related needs will be considered upon \\nrequest.  \\n \\nYou are never allowed to wear shorts.  \\n \\n8. Workplace Harassment and Discrimination  \\n \\nInnovatek  is dedicated to maintaining a work environment free from harassment and \\ndiscrimination. All employees are expected to treat each other with respect and dignity. Any \\ninstances of harassment, discrimination, or retaliation will be promptly investigated and may \\nresult in disciplinary action, up to and including termination.  \\n \\n9. Data Protection and Confidentiality  \\n \\nAll employees must adhere to the data protection policies of Innovatek . Handling of\", \"metadata\": {\"page\": 5, \"source\": \"./Innovatek.pdf\"}, \"type\": \"Document\"}]\n"
     ]
    }
   ],
   "source": [
    "import json\n",
    "\n",
    "# function to retrieve HR questions\n",
    "def hr_query(query):\n",
    "    docs = db.similarity_search(query, k=3)\n",
    "    docs_dict = [doc.__dict__ for doc in docs]\n",
    "    return json.dumps(docs_dict)\n",
    "\n",
    "# try the function; docs array as JSON\n",
    "print(hr_query(\"Can I wear short pants?\"))"
   ]
  },
  {
   "cell_type": "markdown",
   "metadata": {},
   "source": [
    "## Create the assistant with code\n",
    "\n",
    "Here you see how to add functions to an assistant from code. It's an array of JSON that defines custom functions or built-in tools like `code_interpreter`.\n",
    "\n",
    "We show how to upload files and add them to the assistant. As discussed earlier, we cannot enable the built-in `retrieval` tool yet."
   ]
  },
  {
   "cell_type": "code",
   "execution_count": 86,
   "metadata": {},
   "outputs": [
    {
     "name": "stdout",
     "output_type": "stream",
     "text": [
      "Assistant ID: asst_Ol9RnLsiDCD6khGtF05LarPm\n"
     ]
    }
   ],
   "source": [
    "\n",
    "\n",
    "# upload the HR policy and get the file id\n",
    "# this would be used if retrieval was supported\n",
    "# just shown here for completeness\n",
    "hr_policy_file = client.files.create(\n",
    "    file=open('Innovatek.pdf', 'rb'),\n",
    "    purpose='assistants'\n",
    ")\n",
    "\n",
    "# load assistant ID from assistant_id.txt\n",
    "# delete that file before running this code to create a new assistant\n",
    "try:\n",
    "    with open('assistant_id.txt', 'r') as f:\n",
    "        assistant_id = f.read()\n",
    "except FileNotFoundError:\n",
    "    print(\"The file 'assistant_id.txt' does not exist.\")\n",
    "    assistant_id = None\n",
    "\n",
    "print('Assistant ID:', assistant_id)\n",
    "\n",
    "if assistant_id is None:\n",
    "    # Create a new assistant\n",
    "    assistant = client.beta.assistants.create(\n",
    "        name=\"HR Assistant\",\n",
    "        instructions=\"\"\"You are an HR Assistant for the company Innovatek.\n",
    "        You answer questions about HR policy from the the hr_query function you have access to. hr_query only answers\n",
    "        questions realted to the HR policy of Innovatek. When you get an answer, check the metadata and return document paths or urls\n",
    "        that were used as the source of the answer.\n",
    "        Users can ask for a raise. If they do, so call the function `request_raise` with the amount they are asking for.\n",
    "        If you do not know the employee before asking a raise, ask the user for their name.\n",
    "        \"\"\",\n",
    "        tools=[{ \n",
    "            \"function\": {\n",
    "                \"name\": \"request_raise\",\n",
    "                \"description\": \"Request a raise for an employee\",\n",
    "                \"parameters\": {\n",
    "                \"type\": \"object\",\n",
    "                \"properties\": {\n",
    "                    \"employee\": {\n",
    "                        \"type\": \"string\",\n",
    "                        \"description\": \"Name of the employee. Ask the user if you do not know.\"\n",
    "                        },\n",
    "                    \"amount\": {\n",
    "                        \"type\": \"integer\",\n",
    "                        \"description\": \"The raise amount, not the new salary\"\n",
    "                        }\n",
    "                },\n",
    "                \"required\": [\n",
    "                    \"employee\",\n",
    "                    \"amount\"\n",
    "                ]\n",
    "                }\n",
    "            },\n",
    "            \"type\": \"function\"\n",
    "            },\n",
    "            { \n",
    "            \"function\": {\n",
    "                \"name\": \"hr_query\",\n",
    "                \"description\": \"Can answer HR related questions\",\n",
    "                \"parameters\": {\n",
    "                \"type\": \"object\",\n",
    "                \"properties\": {\n",
    "                    \"query\": {\n",
    "                        \"type\": \"string\",\n",
    "                        \"description\": \"HR-related question for company Innovatek\"\n",
    "                        }\n",
    "                },\n",
    "                \"required\": [\n",
    "                    \"query\"\n",
    "                ]\n",
    "                }\n",
    "            },\n",
    "            \"type\": \"function\"\n",
    "            }, \n",
    "            {\n",
    "                \"type\": \"code_interpreter\",  # should be set to retrieval but that is not supported yet; required or file_ids will throw error\n",
    "            }\n",
    "        ],\n",
    "        model=\"gpt-4-preview\", # ensure you have a deployment in the region you are using\n",
    "        file_ids=[hr_policy_file.id] # pass the file_ids, max 20\n",
    "    )\n",
    "\n",
    "    # write the assistant ID to a file\n",
    "    assistant_id = assistant.id\n",
    "    with open('assistant_id.txt', 'w') as f:\n",
    "        f.write(assistant_id)\n",
    "    print('Assistant created:', assistant_id)\n",
    "    "
   ]
  },
  {
   "cell_type": "markdown",
   "metadata": {},
   "source": [
    "## Create a thread and add a message\n",
    "\n",
    "Here we add a message with a question about the HR policy.\n",
    "\n",
    "Instead of using the retrieval tool, we hope the model will use the hr_query function to answer the question."
   ]
  },
  {
   "cell_type": "code",
   "execution_count": 87,
   "metadata": {},
   "outputs": [
    {
     "name": "stdout",
     "output_type": "stream",
     "text": [
      "Thread id:  thread_YQTew8F0sOViu0w6mVaCZVpW\n"
     ]
    }
   ],
   "source": [
    "# Create a thread\n",
    "thread = client.beta.threads.create()\n",
    "\n",
    "# Threads have an id as well\n",
    "print(\"Thread id: \", thread.id)"
   ]
  },
  {
   "cell_type": "code",
   "execution_count": 88,
   "metadata": {},
   "outputs": [
    {
     "name": "stdout",
     "output_type": "stream",
     "text": [
      "{\n",
      "  \"id\": \"run_HnZlvhxWZGk7iUtQuLvMwhSY\",\n",
      "  \"assistant_id\": \"asst_Ol9RnLsiDCD6khGtF05LarPm\",\n",
      "  \"cancelled_at\": null,\n",
      "  \"completed_at\": null,\n",
      "  \"created_at\": 1707573142,\n",
      "  \"expires_at\": 1707573742,\n",
      "  \"failed_at\": null,\n",
      "  \"file_ids\": [\n",
      "    \"assistant-91XlM4DmZkSrpJRrM0cxcfNJ\"\n",
      "  ],\n",
      "  \"instructions\": \"You are an HR Assistant for the company Innovatek.\\n        You answer questions about HR policy from the the query_hr function you have access to. query_hr only answers\\n        questions realted to the HR policy of Innovatek. When you get an answer, check the metadata and return document paths or urls\\n        that were used as the source of the answer.\\n        Users can ask for a raise. If they do, so call the function `request_raise` with the amount they are asking for.\\n        If you do not know the employee before asking a raise, ask the user for their name.\\n        \",\n",
      "  \"last_error\": null,\n",
      "  \"metadata\": {},\n",
      "  \"model\": \"gpt-4-preview\",\n",
      "  \"object\": \"thread.run\",\n",
      "  \"required_action\": {\n",
      "    \"submit_tool_outputs\": {\n",
      "      \"tool_calls\": [\n",
      "        {\n",
      "          \"id\": \"call_wCZWDXsUkC0dDBGAGhkRZC1u\",\n",
      "          \"function\": {\n",
      "            \"arguments\": \"{\\\"query\\\":\\\"What company cars are available for employees?\\\"}\",\n",
      "            \"name\": \"hr_query\"\n",
      "          },\n",
      "          \"type\": \"function\"\n",
      "        }\n",
      "      ]\n",
      "    },\n",
      "    \"type\": \"submit_tool_outputs\"\n",
      "  },\n",
      "  \"started_at\": 1707573143,\n",
      "  \"status\": \"requires_action\",\n",
      "  \"thread_id\": \"thread_YQTew8F0sOViu0w6mVaCZVpW\",\n",
      "  \"tools\": [\n",
      "    {\n",
      "      \"function\": {\n",
      "        \"name\": \"request_raise\",\n",
      "        \"description\": \"Request a raise for an employee\",\n",
      "        \"parameters\": {\n",
      "          \"type\": \"object\",\n",
      "          \"properties\": {\n",
      "            \"employee\": {\n",
      "              \"type\": \"string\",\n",
      "              \"description\": \"Name of the employee. Ask the user if you do not know.\"\n",
      "            },\n",
      "            \"amount\": {\n",
      "              \"type\": \"integer\",\n",
      "              \"description\": \"The raise amount, not the new salary\"\n",
      "            }\n",
      "          },\n",
      "          \"required\": [\n",
      "            \"employee\",\n",
      "            \"amount\"\n",
      "          ]\n",
      "        }\n",
      "      },\n",
      "      \"type\": \"function\"\n",
      "    },\n",
      "    {\n",
      "      \"function\": {\n",
      "        \"name\": \"hr_query\",\n",
      "        \"description\": \"Can answer HR related questions\",\n",
      "        \"parameters\": {\n",
      "          \"type\": \"object\",\n",
      "          \"properties\": {\n",
      "            \"query\": {\n",
      "              \"type\": \"string\",\n",
      "              \"description\": \"HR-related question for company Innovatek\"\n",
      "            }\n",
      "          },\n",
      "          \"required\": [\n",
      "            \"query\"\n",
      "          ]\n",
      "        }\n",
      "      },\n",
      "      \"type\": \"function\"\n",
      "    },\n",
      "    {\n",
      "      \"type\": \"code_interpreter\"\n",
      "    }\n",
      "  ]\n",
      "}\n"
     ]
    }
   ],
   "source": [
    "\n",
    "# you can come back to this cell to ask more questions in the thread\n",
    "# simply change the message and run the cell\n",
    "# to start a new thread, run the cell above\n",
    "\n",
    "import time\n",
    "from IPython.display import clear_output\n",
    "\n",
    "# function returns the run when status is no longer queued or in_progress\n",
    "def wait_for_run(run, thread_id):\n",
    "    while run.status == 'queued' or run.status == 'in_progress':\n",
    "        run = client.beta.threads.runs.retrieve(\n",
    "                thread_id=thread_id,\n",
    "                run_id=run.id\n",
    "        )\n",
    "        time.sleep(0.5)\n",
    "\n",
    "    return run\n",
    "\n",
    "\n",
    "# create a message\n",
    "message = client.beta.threads.messages.create(\n",
    "    thread_id=thread.id,\n",
    "    role=\"user\",\n",
    "    content=\"What company cars can I get?\"\n",
    ")\n",
    "\n",
    "# create a run \n",
    "run = client.beta.threads.runs.create(\n",
    "    thread_id=thread.id,\n",
    "    assistant_id=assistant_id, # use the assistant id defined in the first cell\n",
    "    # tools=[{\"type\": \"retrieval\"}] # using the retrieval tool is not supported at run level either\n",
    ")\n",
    "\n",
    "# wait for the run to complete\n",
    "run = wait_for_run(run, thread.id)\n",
    "\n",
    "# show information about the run\n",
    "# should indicate that run status is requires_action\n",
    "# should contain information about the tools to call\n",
    "print(run.model_dump_json(indent=2))"
   ]
  },
  {
   "cell_type": "markdown",
   "metadata": {},
   "source": [
    "## Check if we need to run a function\n",
    "\n",
    "Note that when you ask for a raise, the model will ask for your name. Use the cell where you add a message to add your name and run that cell and the next ones."
   ]
  },
  {
   "cell_type": "code",
   "execution_count": 89,
   "metadata": {},
   "outputs": [
    {
     "name": "stderr",
     "output_type": "stream",
     "text": [
      "Warning: model not found. Using cl100k_base encoding.\n"
     ]
    },
    {
     "name": "stdout",
     "output_type": "stream",
     "text": [
      "Tool calls: [RequiredActionFunctionToolCall(id='call_wCZWDXsUkC0dDBGAGhkRZC1u', function=Function(arguments='{\"query\":\"What company cars are available for employees?\"}', name='hr_query'), type='function')]\n",
      "Tool outputs submitted\n"
     ]
    }
   ],
   "source": [
    "if run.required_action:\n",
    "    # get tool calls and print them\n",
    "    # check the output to see what tools_calls contains\n",
    "    tool_calls = run.required_action.submit_tool_outputs.tool_calls\n",
    "    print(\"Tool calls:\", tool_calls)\n",
    "\n",
    "    # we might need to call multiple tools\n",
    "    # the assistant API supports parallel tool calls\n",
    "    # we account for this here although we only have one tool call\n",
    "    tool_outputs = []\n",
    "    for tool_call in tool_calls:\n",
    "        func_name = tool_call.function.name\n",
    "        arguments = json.loads(tool_call.function.arguments)\n",
    "\n",
    "        # call the function with the arguments provided by the assistant\n",
    "        if func_name == \"hr_query\":\n",
    "            result = hr_query(**arguments)\n",
    "        elif func_name == \"request_raise\":\n",
    "            result = \"Request sumbitted. It will take two weeks to review.\"\n",
    "\n",
    "        # append the results to the tool_outputs list\n",
    "        # you need to specify the tool_call_id so the assistant knows which tool call the output belongs to\n",
    "        tool_outputs.append({\n",
    "            \"tool_call_id\": tool_call.id,\n",
    "            \"output\": json.dumps(result)\n",
    "        })\n",
    "\n",
    "    # now that we have the tool call outputs, pass them to the assistant\n",
    "    run = client.beta.threads.runs.submit_tool_outputs(\n",
    "        thread_id=thread.id,\n",
    "        run_id=run.id,\n",
    "        tool_outputs=tool_outputs\n",
    "    )\n",
    "\n",
    "    print(\"Tool outputs submitted\")\n",
    "\n",
    "    # now we wait for the run again\n",
    "    run = wait_for_run(run, thread.id)\n",
    "else:\n",
    "    print(\"No tool calls identified\\n\")"
   ]
  },
  {
   "cell_type": "markdown",
   "metadata": {},
   "source": [
    "## Pretty print the thread messages\n",
    "\n",
    "In reverse order to start from the first question."
   ]
  },
  {
   "cell_type": "code",
   "execution_count": 90,
   "metadata": {},
   "outputs": [
    {
     "name": "stdout",
     "output_type": "stream",
     "text": [
      "👤 What company cars can I get? \n",
      "\n",
      "🤖 The company cars available for Innovatek employees are:\n",
      "\n",
      "- Tesla Model 3\n",
      "- Tesla Model S\n",
      "- BMW i4\n",
      "- BMW i5\n",
      "\n",
      "Gasoline or diesel cars are not allowed as company cars.\n",
      "\n",
      "The source of this information is found in the Innovatek HR Policy document. The relevant document path is `./Innovatek.pdf`. \n",
      "\n"
     ]
    }
   ],
   "source": [
    "import json\n",
    "\n",
    "messages = client.beta.threads.messages.list(thread_id=thread.id)\n",
    "messages_json = json.loads(messages.model_dump_json())\n",
    "\n",
    "def role_icon(role):\n",
    "    if role == \"user\":\n",
    "        return \"👤\"\n",
    "    elif role == \"assistant\":\n",
    "        return \"🤖\"\n",
    "\n",
    "for item in reversed(messages_json['data']):\n",
    "    # Check the content array\n",
    "    for content in reversed(item['content']):\n",
    "        # If there is text in the content array, print it\n",
    "        if 'text' in content:\n",
    "            print(role_icon(item[\"role\"]),content['text']['value'], \"\\n\")\n",
    "        # If there is an image_file in the content, print the file_id\n",
    "        if 'image_file' in content:\n",
    "            print(\"Image ID:\" , content['image_file']['file_id'], \"\\n\")"
   ]
  }
 ],
 "metadata": {
  "kernelspec": {
   "display_name": "Python 3",
   "language": "python",
   "name": "python3"
  },
  "language_info": {
   "codemirror_mode": {
    "name": "ipython",
    "version": 3
   },
   "file_extension": ".py",
   "mimetype": "text/x-python",
   "name": "python",
   "nbconvert_exporter": "python",
   "pygments_lexer": "ipython3",
   "version": "3.11.7"
  }
 },
 "nbformat": 4,
 "nbformat_minor": 2
}
